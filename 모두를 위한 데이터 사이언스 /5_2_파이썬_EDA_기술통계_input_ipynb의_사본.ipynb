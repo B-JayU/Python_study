{
  "nbformat": 4,
  "nbformat_minor": 0,
  "metadata": {
    "colab": {
      "name": "5.2 파이썬 EDA-기술통계-input.ipynb의 사본",
      "private_outputs": true,
      "provenance": [],
      "authorship_tag": "ABX9TyPa7nhcbLNt9XOQ16inlQgv",
      "include_colab_link": true
    },
    "kernelspec": {
      "name": "python3",
      "display_name": "Python 3"
    },
    "language_info": {
      "name": "python"
    }
  },
  "cells": [
    {
      "cell_type": "markdown",
      "metadata": {
        "id": "view-in-github",
        "colab_type": "text"
      },
      "source": [
        "<a href=\"https://colab.research.google.com/github/B-JayU/Python_study/blob/main/%EB%AA%A8%EB%91%90%EB%A5%BC%20%EC%9C%84%ED%95%9C%20%EB%8D%B0%EC%9D%B4%ED%84%B0%20%EC%82%AC%EC%9D%B4%EC%96%B8%EC%8A%A4%20/5_2_%ED%8C%8C%EC%9D%B4%EC%8D%AC_EDA_%EA%B8%B0%EC%88%A0%ED%86%B5%EA%B3%84_input_ipynb%EC%9D%98_%EC%82%AC%EB%B3%B8.ipynb\" target=\"_parent\"><img src=\"https://colab.research.google.com/assets/colab-badge.svg\" alt=\"Open In Colab\"/></a>"
      ]
    },
    {
      "cell_type": "markdown",
      "metadata": {
        "id": "lqLKOXQi8uTD"
      },
      "source": [
        "# 라이브러리 로드 "
      ]
    },
    {
      "cell_type": "code",
      "metadata": {
        "id": "KBryucNM8moG"
      },
      "source": [
        "# 데이터 분석을 위한 pandas 라이브러리 불러오기\n",
        "# 데이터 시각화를 위한 seaborn 을 불러온다\n",
        "\n",
        "import pandas as pd\n",
        "import seaborn as sns"
      ],
      "execution_count": null,
      "outputs": []
    },
    {
      "cell_type": "code",
      "metadata": {
        "id": "_Iqm-Zfp9Cf6"
      },
      "source": [
        "print(pd.__version__)\n",
        "print(sns.__version__)"
      ],
      "execution_count": null,
      "outputs": []
    },
    {
      "cell_type": "markdown",
      "metadata": {
        "id": "ZGSTE1iVI00n"
      },
      "source": [
        "# 데이터셋 불러오기"
      ]
    },
    {
      "cell_type": "markdown",
      "metadata": {
        "id": "wJPs6NaEI8Hv"
      },
      "source": [
        "\n",
        "*   seaborn 데이터셋 위치 : https://github.com/mwaskom/seaborn-data\n",
        "\n"
      ]
    },
    {
      "cell_type": "code",
      "metadata": {
        "id": "y7_VFtR7JFh7"
      },
      "source": [
        "#df\n",
        "df = sns.load_dataset(\"mpg\")\n",
        "df.shape"
      ],
      "execution_count": null,
      "outputs": []
    },
    {
      "cell_type": "markdown",
      "metadata": {
        "id": "0C9MfUQUJw37"
      },
      "source": [
        "# 매번 봐야 하는 기술통계값 코드 한 줄로 보기"
      ]
    },
    {
      "cell_type": "markdown",
      "metadata": {
        "id": "ToL-jrfrJ2_7"
      },
      "source": [
        "## Pandas Profiling\n",
        "\n",
        "\n",
        "*   pandas-profiling/pandas-profiling: Create HTML profiling reports from pandas DataFrame objects\n",
        "\n",
        "\n"
      ]
    },
    {
      "cell_type": "code",
      "metadata": {
        "id": "DZ9XJ_NXJ0p-"
      },
      "source": [
        "# 아래 명령어로 설치\n",
        "# 2.8.0 이상 버전에서 폰트 설정방법이 변경되어 아래 버전 사용을 추천\n",
        "# !pip install pandas_profiling==2.8.0"
      ],
      "execution_count": null,
      "outputs": []
    },
    {
      "cell_type": "code",
      "metadata": {
        "id": "i3XYu1_TLCnx"
      },
      "source": [
        "!pip install pandas_profiling==2.8.0"
      ],
      "execution_count": null,
      "outputs": []
    },
    {
      "cell_type": "code",
      "metadata": {
        "id": "Y4dzY5H0KuhV"
      },
      "source": [
        "from pandas_profiling import ProfileReport\n",
        "profile = ProfileReport(df, title=\"Pandas Profiling Report\")"
      ],
      "execution_count": null,
      "outputs": []
    },
    {
      "cell_type": "code",
      "metadata": {
        "id": "8emFv5-SKuow"
      },
      "source": [
        "# 주피터 노트북이 있는 위치에 html 파일이 생성됨\n",
        "profile.to_file(\"pandas_profile_report.html\")"
      ],
      "execution_count": null,
      "outputs": []
    },
    {
      "cell_type": "code",
      "metadata": {
        "id": "0BXi2FK7MWij"
      },
      "source": [
        "profile"
      ],
      "execution_count": null,
      "outputs": []
    },
    {
      "cell_type": "markdown",
      "metadata": {
        "id": "xUuzFWTqQAcT"
      },
      "source": [
        "#### sweetviz"
      ]
    },
    {
      "cell_type": "code",
      "metadata": {
        "id": "99IorhpdQD0L"
      },
      "source": [
        "# 아래 명령어로 설치해서 사용한다. \n",
        "!pip install sweetviz"
      ],
      "execution_count": null,
      "outputs": []
    },
    {
      "cell_type": "code",
      "metadata": {
        "id": "FMPTK-R7QjKF"
      },
      "source": [
        "import sweetviz as sv"
      ],
      "execution_count": null,
      "outputs": []
    },
    {
      "cell_type": "code",
      "metadata": {
        "id": "8G-6rsCWQqvv"
      },
      "source": [
        "my_report = sv.analyze(df)\n",
        "# 타켓변수 없이 그릴 수도 있고 타켓변수를 지정할 수도 있다.\n",
        "# 타켓변수는 범주형이 아닌 수치, bool 값만 가능하다.\n",
        "# 데이터에 따라 수치형으로 되어있지만 동작하지 않을 수도 있다.\n",
        "# my_report = sv.analyze(df, target_feat='mpg')\n",
        "my_report.show_html()"
      ],
      "execution_count": null,
      "outputs": []
    }
  ]
}