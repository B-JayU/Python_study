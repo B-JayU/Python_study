{
  "nbformat": 4,
  "nbformat_minor": 0,
  "metadata": {
    "kernelspec": {
      "display_name": "Python 3",
      "language": "python",
      "name": "python3"
    },
    "language_info": {
      "codemirror_mode": {
        "name": "ipython",
        "version": 3
      },
      "file_extension": ".py",
      "mimetype": "text/x-python",
      "name": "python",
      "nbconvert_exporter": "python",
      "pygments_lexer": "ipython3",
      "version": "3.7.6"
    },
    "toc": {
      "base_numbering": 1,
      "nav_menu": {},
      "number_sections": true,
      "sideBar": true,
      "skip_h1_title": false,
      "title_cell": "Table of Contents",
      "title_sidebar": "Contents",
      "toc_cell": false,
      "toc_position": {
        "height": "calc(100% - 180px)",
        "left": "10px",
        "top": "150px",
        "width": "204.8px"
      },
      "toc_section_display": true,
      "toc_window_display": true
    },
    "varInspector": {
      "cols": {
        "lenName": 16,
        "lenType": 16,
        "lenVar": 40
      },
      "kernels_config": {
        "python": {
          "delete_cmd_postfix": "",
          "delete_cmd_prefix": "del ",
          "library": "var_list.py",
          "varRefreshCmd": "print(var_dic_list())"
        },
        "r": {
          "delete_cmd_postfix": ") ",
          "delete_cmd_prefix": "rm(",
          "library": "var_list.r",
          "varRefreshCmd": "cat(var_dic_list()) "
        }
      },
      "types_to_exclude": [
        "module",
        "function",
        "builtin_function_or_method",
        "instance",
        "_Feature"
      ],
      "window_display": false
    },
    "colab": {
      "name": "5.4 파이썬 EDA-범주형 변수-input.ipynb",
      "provenance": [],
      "include_colab_link": true
    }
  },
  "cells": [
    {
      "cell_type": "markdown",
      "metadata": {
        "id": "view-in-github",
        "colab_type": "text"
      },
      "source": [
        "<a href=\"https://colab.research.google.com/github/B-JayU/Python_study/blob/main/5.4%20%ED%8C%8C%EC%9D%B4%EC%8D%AC%20EDA-%EB%B2%94%EC%A3%BC%ED%98%95%20%EB%B3%80%EC%88%98-input.ipynb\" target=\"_parent\"><img src=\"https://colab.research.google.com/assets/colab-badge.svg\" alt=\"Open In Colab\"/></a>"
      ]
    },
    {
      "cell_type": "markdown",
      "metadata": {
        "id": "i3kRLLIc2nel"
      },
      "source": [
        "## 라이브러리 로드"
      ]
    },
    {
      "cell_type": "code",
      "metadata": {
        "id": "38tJ9oYd2nen"
      },
      "source": [
        "# 데이터 분석을 위한 pandas 라이브러리를 불러옵니다.\n",
        "# 수치계산을 위한 numpy를 불러옵니다.\n",
        "# 데이터 시각화를 위한 matplotlib, seaborn 을 불러옵니다.\n",
        "\n"
      ],
      "execution_count": null,
      "outputs": []
    },
    {
      "cell_type": "code",
      "metadata": {
        "scrolled": true,
        "id": "oA-73fow2neo"
      },
      "source": [
        "print(pd.__version__)\n",
        "print(sns.__version__)"
      ],
      "execution_count": null,
      "outputs": []
    },
    {
      "cell_type": "code",
      "metadata": {
        "id": "JI1VHXil2neo"
      },
      "source": [
        "# 0.11.0 버전에서 변화가 많으니 이 버전 이상을 사용해 주세요. \n",
        "# !pip install seaborn --upgrade"
      ],
      "execution_count": null,
      "outputs": []
    },
    {
      "cell_type": "markdown",
      "metadata": {
        "id": "vTmP7ZFu2nep"
      },
      "source": [
        "## 데이터셋 불러오기"
      ]
    },
    {
      "cell_type": "code",
      "metadata": {
        "id": "Pic0v2aV2nep"
      },
      "source": [
        "# mpg 데이터셋을 불러옵니다.\n",
        "# df\n"
      ],
      "execution_count": null,
      "outputs": []
    },
    {
      "cell_type": "markdown",
      "metadata": {
        "id": "EEioFynd2nep"
      },
      "source": [
        "## 데이터셋 일부만 가져오기"
      ]
    },
    {
      "cell_type": "code",
      "metadata": {
        "scrolled": true,
        "id": "_5uojQXt2nep"
      },
      "source": [
        "# head\n"
      ],
      "execution_count": null,
      "outputs": []
    },
    {
      "cell_type": "code",
      "metadata": {
        "id": "EORmS86j2neq"
      },
      "source": [
        "# tail\n"
      ],
      "execution_count": null,
      "outputs": []
    },
    {
      "cell_type": "markdown",
      "metadata": {
        "id": "v9T736Hy2neq"
      },
      "source": [
        "## 요약하기"
      ]
    },
    {
      "cell_type": "code",
      "metadata": {
        "id": "hWyugoD32ner"
      },
      "source": [
        ""
      ],
      "execution_count": null,
      "outputs": []
    },
    {
      "cell_type": "markdown",
      "metadata": {
        "id": "5dySglZG2ner"
      },
      "source": [
        "##  결측치 보기"
      ]
    },
    {
      "cell_type": "code",
      "metadata": {
        "id": "p71s9oab2ner"
      },
      "source": [
        ""
      ],
      "execution_count": null,
      "outputs": []
    },
    {
      "cell_type": "markdown",
      "metadata": {
        "id": "cwVyiJ182nes"
      },
      "source": [
        "## 기술통계"
      ]
    },
    {
      "cell_type": "code",
      "metadata": {
        "id": "HWZwYyh42nes"
      },
      "source": [
        "# describe 를 통해 범주형 변수에 대한 기술통계를 보기\n"
      ],
      "execution_count": null,
      "outputs": []
    },
    {
      "cell_type": "markdown",
      "metadata": {
        "id": "iNhm_PA02net"
      },
      "source": [
        "## 범주형 변수\n",
        "### 범주형 데이터 유일값의 빈도수"
      ]
    },
    {
      "cell_type": "code",
      "metadata": {
        "id": "vUmLZH9q2net"
      },
      "source": [
        "# nunique 값 구하기\n"
      ],
      "execution_count": null,
      "outputs": []
    },
    {
      "cell_type": "code",
      "metadata": {
        "id": "URGZPENo2neu"
      },
      "source": [
        "# countplot 으로 origin 빈도수 시각화 하기\n"
      ],
      "execution_count": null,
      "outputs": []
    },
    {
      "cell_type": "markdown",
      "metadata": {
        "id": "jW5A_fcl2neu"
      },
      "source": [
        "### 1개 변수의 빈도수"
      ]
    },
    {
      "cell_type": "code",
      "metadata": {
        "id": "ZP-9f75f2neu"
      },
      "source": [
        "# origin 의 빈도수 구하기\n"
      ],
      "execution_count": null,
      "outputs": []
    },
    {
      "cell_type": "markdown",
      "metadata": {
        "id": "SR2ZbfqW2neu"
      },
      "source": [
        "### 2개 이상의 변수에 대한 빈도수"
      ]
    },
    {
      "cell_type": "code",
      "metadata": {
        "id": "0K_2371S2nev"
      },
      "source": [
        "# countplot 으로 origin 의 빈도수를 시각화 하고 cylinders 로 다른 색상으로 표현하기\n"
      ],
      "execution_count": null,
      "outputs": []
    },
    {
      "cell_type": "code",
      "metadata": {
        "id": "To5dqM2o2nev"
      },
      "source": [
        "# countplot 으로 cylinders 의 빈도수를 시각화 하고 origin 으로 다른 색상으로 표현하기\n"
      ],
      "execution_count": null,
      "outputs": []
    },
    {
      "cell_type": "code",
      "metadata": {
        "id": "2A2rAE0A2nev"
      },
      "source": [
        "# pd.crosstab 으로 시각화한 값 직접 구하기\n"
      ],
      "execution_count": null,
      "outputs": []
    },
    {
      "cell_type": "markdown",
      "metadata": {
        "id": "gx9e55ye2nev"
      },
      "source": [
        "### 범주형 vs 수치형 변수"
      ]
    },
    {
      "cell_type": "code",
      "metadata": {
        "id": "zoE8IQp82new"
      },
      "source": [
        "# barplot 으로 origin 별 mpg 값 구하기\n"
      ],
      "execution_count": null,
      "outputs": []
    },
    {
      "cell_type": "markdown",
      "metadata": {
        "id": "ow4gn6EB2new"
      },
      "source": [
        "### groupby 를 통한 연산"
      ]
    },
    {
      "cell_type": "code",
      "metadata": {
        "id": "le1PBIz_2new"
      },
      "source": [
        "# groupby를 통해 origin 별로 그룹화 하고 mpg 의 평균 구하기\n"
      ],
      "execution_count": null,
      "outputs": []
    },
    {
      "cell_type": "markdown",
      "metadata": {
        "id": "kSC4TgkC2new"
      },
      "source": [
        "### pivot table을 통한 연산"
      ]
    },
    {
      "cell_type": "code",
      "metadata": {
        "id": "N7X5DA5f2nex"
      },
      "source": [
        "# pivot_table 로 같은 값 구하기\n"
      ],
      "execution_count": null,
      "outputs": []
    },
    {
      "cell_type": "code",
      "metadata": {
        "id": "HAjS9naB2nex"
      },
      "source": [
        "# barplot 으로 합계 값 구하기\n"
      ],
      "execution_count": null,
      "outputs": []
    },
    {
      "cell_type": "code",
      "metadata": {
        "id": "d06-NVIp2ney"
      },
      "source": [
        "# barplot 에 hue 를 사용하여 색상을 다르게 표현해 보기\n"
      ],
      "execution_count": null,
      "outputs": []
    },
    {
      "cell_type": "code",
      "metadata": {
        "id": "OLZbIXpc2nez"
      },
      "source": [
        "# groupby 를 통해 위 시각화에 대한 값을 구하기\n"
      ],
      "execution_count": null,
      "outputs": []
    },
    {
      "cell_type": "code",
      "metadata": {
        "id": "j33aWSmk2nez"
      },
      "source": [
        "# pivot_table 를 통해 위 시각화에 대한 값을 구하기\n"
      ],
      "execution_count": null,
      "outputs": []
    },
    {
      "cell_type": "code",
      "metadata": {
        "id": "Vi_Z2xIb2ne1"
      },
      "source": [
        "# cylinders 와 mpg 의 x, hue 값을 변경해서 시각화\n"
      ],
      "execution_count": null,
      "outputs": []
    },
    {
      "cell_type": "markdown",
      "metadata": {
        "id": "8uP5aWHY2ne2"
      },
      "source": [
        "### boxplot과 사분위수\n",
        "\n",
        "<img src=\"https://upload.wikimedia.org/wikipedia/commons/thumb/1/1a/Boxplot_vs_PDF.svg/1280px-Boxplot_vs_PDF.svg.png\" width=\"300\">\n",
        "\n",
        "이미지 출처 : https://en.wikipedia.org/wiki/Box_plot"
      ]
    },
    {
      "cell_type": "code",
      "metadata": {
        "id": "kHc2MYW_2ne2"
      },
      "source": [
        "# boxplot 으로 origin 별 mpg 의 기술통계 값 구하기\n"
      ],
      "execution_count": null,
      "outputs": []
    },
    {
      "cell_type": "code",
      "metadata": {
        "id": "M-1WW-gT2ne3"
      },
      "source": [
        "# groupby로 origin 값에 따른 mpg의 기술통계 구하기\n",
        "# 결과를 변수에 할당하여 재사용하기\n"
      ],
      "execution_count": null,
      "outputs": []
    },
    {
      "cell_type": "markdown",
      "metadata": {
        "id": "g1EWuzqH2ne3"
      },
      "source": [
        "### 박스플롯 이해하기\n",
        "* https://ko.wikipedia.org/wiki/%EC%83%81%EC%9E%90_%EC%88%98%EC%97%BC_%EA%B7%B8%EB%A6%BC"
      ]
    },
    {
      "cell_type": "code",
      "metadata": {
        "id": "kL92aaxR2ne3"
      },
      "source": [
        "# IQR, 이상치를 제외한 최댓값, 최솟값 구하기\n",
        "# Q3\n",
        "# Q1\n",
        "# IQR\n",
        "# OUT_MAX\n",
        "# OUT_MIN"
      ],
      "execution_count": null,
      "outputs": []
    },
    {
      "cell_type": "code",
      "metadata": {
        "id": "q6MWYgHA2ne4"
      },
      "source": [
        "# boxenplot 그리기\n"
      ],
      "execution_count": null,
      "outputs": []
    },
    {
      "cell_type": "code",
      "metadata": {
        "id": "VFUmzv5B2ne4"
      },
      "source": [
        "# violinplot 그리기\n"
      ],
      "execution_count": null,
      "outputs": []
    },
    {
      "cell_type": "markdown",
      "metadata": {
        "id": "UCDIbOjb2ne5"
      },
      "source": [
        "### 산점도를 통한 범주형 데이터 표현"
      ]
    },
    {
      "cell_type": "code",
      "metadata": {
        "id": "OyKNu7Af2ne5"
      },
      "source": [
        "# scatterplot 으로 범주형 변수 그리기\n"
      ],
      "execution_count": null,
      "outputs": []
    },
    {
      "cell_type": "code",
      "metadata": {
        "id": "81gy0IXT2ne5"
      },
      "source": [
        "# stripplot\n"
      ],
      "execution_count": null,
      "outputs": []
    },
    {
      "cell_type": "code",
      "metadata": {
        "id": "Tso-jlTi2ne5"
      },
      "source": [
        "# swarmplot\n"
      ],
      "execution_count": null,
      "outputs": []
    },
    {
      "cell_type": "markdown",
      "metadata": {
        "id": "kDUqboym2ne5"
      },
      "source": [
        "### catplot을 통한 범주형 데이터의 서브플롯 시각화\n",
        "<img src=\"https://seaborn.pydata.org/_images/function_overview_8_0.png\" width=\"500\">"
      ]
    },
    {
      "cell_type": "code",
      "metadata": {
        "id": "8m85TLMk2ne6"
      },
      "source": [
        "# catplot\n"
      ],
      "execution_count": null,
      "outputs": []
    },
    {
      "cell_type": "code",
      "metadata": {
        "id": "7k_GbHJF2ne6"
      },
      "source": [
        "# catplot 으로 boxplot그리기\n"
      ],
      "execution_count": null,
      "outputs": []
    },
    {
      "cell_type": "code",
      "metadata": {
        "id": "6AKTa3o22ne6"
      },
      "source": [
        "# catplot 으로 violinplot그리기\n"
      ],
      "execution_count": null,
      "outputs": []
    },
    {
      "cell_type": "code",
      "metadata": {
        "id": "GIlZS6Qg2ne6"
      },
      "source": [
        "# catplot 으로 countplot그리기\n"
      ],
      "execution_count": null,
      "outputs": []
    },
    {
      "cell_type": "code",
      "metadata": {
        "scrolled": false,
        "id": "q6p0D8PS2ne6"
      },
      "source": [
        "# catplot 으로 boxplot그리기\n",
        "# df 전체를 넣고 시각화 하기\n"
      ],
      "execution_count": null,
      "outputs": []
    },
    {
      "cell_type": "code",
      "metadata": {
        "id": "Y1EBMIq12ne7"
      },
      "source": [
        "# catplot 으로 violinplot그리기\n",
        "# df 전체를 넣고 시각화 하기\n"
      ],
      "execution_count": null,
      "outputs": []
    },
    {
      "cell_type": "code",
      "metadata": {
        "id": "oTeWTocY2ne7"
      },
      "source": [
        ""
      ],
      "execution_count": null,
      "outputs": []
    }
  ]
}