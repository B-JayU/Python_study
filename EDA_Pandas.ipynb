{
  "nbformat": 4,
  "nbformat_minor": 0,
  "metadata": {
    "colab": {
      "name": "EDA-Pandas.ipynb",
      "private_outputs": true,
      "provenance": [],
      "toc_visible": true,
      "authorship_tag": "ABX9TyMZQyzdqmaz5A6VPaP0P+nY",
      "include_colab_link": true
    },
    "kernelspec": {
      "name": "python3",
      "display_name": "Python 3"
    },
    "language_info": {
      "name": "python"
    }
  },
  "cells": [
    {
      "cell_type": "markdown",
      "metadata": {
        "id": "view-in-github",
        "colab_type": "text"
      },
      "source": [
        "<a href=\"https://colab.research.google.com/github/B-JayU/Python_study/blob/main/EDA_Pandas.ipynb\" target=\"_parent\"><img src=\"https://colab.research.google.com/assets/colab-badge.svg\" alt=\"Open In Colab\"/></a>"
      ]
    },
    {
      "cell_type": "markdown",
      "metadata": {
        "id": "Ln-OFR5tyc_B"
      },
      "source": [
        "# Package 설치"
      ]
    },
    {
      "cell_type": "markdown",
      "metadata": {
        "id": "qx0VwBv9PbAg"
      },
      "source": [
        "pandas 불어오기"
      ]
    },
    {
      "cell_type": "code",
      "metadata": {
        "id": "Q7xK2myJPYV6"
      },
      "source": [
        "import pandas as pd"
      ],
      "execution_count": null,
      "outputs": []
    },
    {
      "cell_type": "markdown",
      "metadata": {
        "id": "tHNzf_czPqqL"
      },
      "source": [
        "seaborn 불러오기"
      ]
    },
    {
      "cell_type": "code",
      "metadata": {
        "id": "1cUCBjKvPjBD"
      },
      "source": [
        "import seaborn as sns"
      ],
      "execution_count": null,
      "outputs": []
    },
    {
      "cell_type": "markdown",
      "metadata": {
        "id": "EtoClL2EPwM_"
      },
      "source": [
        "seaborn 데이터셋 위치 : https://github.com/mwaskom/seaborn-data\n"
      ]
    },
    {
      "cell_type": "code",
      "metadata": {
        "id": "9pNsbAjmP5m-"
      },
      "source": [
        "# df\n",
        "# sns.load_dataset(\"mpg\")\n",
        "df = pd.read_csv(\"https://raw.githubusercontent.com/mwaskom/seaborn-data/master/mpg.csv\")\n",
        "df"
      ],
      "execution_count": null,
      "outputs": []
    },
    {
      "cell_type": "code",
      "metadata": {
        "id": "F4tR4TOGRF6U"
      },
      "source": [
        "# index 값만 보기\n",
        "df.index"
      ],
      "execution_count": null,
      "outputs": []
    },
    {
      "cell_type": "code",
      "metadata": {
        "id": "SBBjZbVzRGB1"
      },
      "source": [
        "# columns 값만 보기\n",
        "df.columns"
      ],
      "execution_count": null,
      "outputs": []
    },
    {
      "cell_type": "code",
      "metadata": {
        "id": "92monWD1RGLQ"
      },
      "source": [
        "# values 값만 보기 \n",
        "df.values"
      ],
      "execution_count": null,
      "outputs": []
    },
    {
      "cell_type": "code",
      "metadata": {
        "id": "ySMic7A2RGU9"
      },
      "source": [
        "# 데이터 타입만 보기\n",
        "df.dtypes"
      ],
      "execution_count": null,
      "outputs": []
    },
    {
      "cell_type": "markdown",
      "metadata": {
        "id": "kiMBq8fBULTN"
      },
      "source": [
        "# 데이터셋 일부만 가져오기"
      ]
    },
    {
      "cell_type": "code",
      "metadata": {
        "id": "eJ45ZApKUucC"
      },
      "source": [
        "# head 을 통해 일부만 가져오기\n",
        "df.head(2)"
      ],
      "execution_count": null,
      "outputs": []
    },
    {
      "cell_type": "code",
      "metadata": {
        "id": "shPnoFR1UHm4"
      },
      "source": [
        "# tail 을 통해 일부만 가져오기\n",
        "df.tail(2)"
      ],
      "execution_count": null,
      "outputs": []
    },
    {
      "cell_type": "code",
      "metadata": {
        "id": "wohftdl3UHpI"
      },
      "source": [
        "# sample을 통해 일부만 가져오기 (randomly)\n",
        "# 실행할 때마다 출력값이 변경된다.\n",
        "df.sample(3)\n",
        "\n",
        "# 실행할 때마다 출력값이 변경되는 것을 원치 않으면\n",
        "# random_state를 고정하거나 none으로\n",
        "df.sample(3, random_state=42)"
      ],
      "execution_count": null,
      "outputs": []
    },
    {
      "cell_type": "markdown",
      "metadata": {
        "id": "-UoOw4h6yYbG"
      },
      "source": [
        "# 요약하기"
      ]
    },
    {
      "cell_type": "code",
      "metadata": {
        "id": "xM2QqiZ1UHrj"
      },
      "source": [
        "# info 를 통해 요약정보 보기\n",
        "df.info()"
      ],
      "execution_count": null,
      "outputs": []
    },
    {
      "cell_type": "markdown",
      "metadata": {
        "id": "vb65UTy1yNDo"
      },
      "source": [
        "# 결측치 확인"
      ]
    },
    {
      "cell_type": "code",
      "metadata": {
        "id": "DIHUWs4mUHuZ"
      },
      "source": [
        "# 결측치 수 확인\n",
        "df.isnull()\n",
        "df.isnull().sum()"
      ],
      "execution_count": null,
      "outputs": []
    },
    {
      "cell_type": "code",
      "metadata": {
        "id": "bPK7ekyGUH0t"
      },
      "source": [
        "# 결측치 비율 확인\n",
        "df.isnull().mean() \n",
        "df.isnull().mean() * 100"
      ],
      "execution_count": null,
      "outputs": []
    },
    {
      "cell_type": "markdown",
      "metadata": {
        "id": "vLaOASaw1Vfx"
      },
      "source": [
        "# 기술통계"
      ]
    },
    {
      "cell_type": "code",
      "metadata": {
        "id": "DmX8HJf8UH33"
      },
      "source": [
        "# describe 로 기술통계 확인하기(count, mean, std ,min, max, 사분위수)\n",
        "df.describe()\n",
        "\n",
        "# string 값을 object 값이라고 하는데, object 값에 대한 기술통계가 나타나지 않음.\n",
        "# 이걸을 나타나게 하려면\n",
        "df.describe(include=\"object\")\n",
        "\n",
        "# object형은 number형과 데이터 타입이 다르므로, 이에 대한 기술통계 값의 종류도 다르게 나타난다 "
      ],
      "execution_count": null,
      "outputs": []
    },
    {
      "cell_type": "markdown",
      "metadata": {
        "id": "wfvZeNdV1aAa"
      },
      "source": [
        "# Series"
      ]
    },
    {
      "cell_type": "code",
      "metadata": {
        "id": "NVh_a-o_UH6c"
      },
      "source": [
        "df[\"mpg\"]"
      ],
      "execution_count": null,
      "outputs": []
    },
    {
      "cell_type": "code",
      "metadata": {
        "id": "pBEMZpNc4nT1"
      },
      "source": [
        "type(df[\"mpg\"])"
      ],
      "execution_count": null,
      "outputs": []
    },
    {
      "cell_type": "markdown",
      "metadata": {
        "id": "FEr9DjVa1dbU"
      },
      "source": [
        "# DataFrame"
      ]
    },
    {
      "cell_type": "code",
      "metadata": {
        "id": "KEa7ivukUH9G"
      },
      "source": [
        "type(df)"
      ],
      "execution_count": null,
      "outputs": []
    },
    {
      "cell_type": "markdown",
      "metadata": {
        "id": "kEyPSHET1fmp"
      },
      "source": [
        "# 색인하기\n",
        "    \n",
        "\n",
        "*   열(column) 인덱싱\n",
        "*   [컬럼]\n",
        "*   [[컬럼1, 컬럼2, 컬럼3]] : \n",
        "여러 개의 컬럼을 가지고 올 때, 컬럼명을 리스트 형식으로 묶어야 한다.\n",
        "\n"
      ]
    },
    {
      "cell_type": "code",
      "metadata": {
        "id": "cclJ6lmoUIBH"
      },
      "source": [
        "df[\"name\"]"
      ],
      "execution_count": null,
      "outputs": []
    },
    {
      "cell_type": "code",
      "metadata": {
        "id": "dUoLCUKY5boV"
      },
      "source": [
        "df[[\"origin\", \"name\"]]"
      ],
      "execution_count": null,
      "outputs": []
    },
    {
      "cell_type": "markdown",
      "metadata": {
        "id": "WgOHlwL75Dzw"
      },
      "source": [
        "# loc\n",
        "\n",
        "\n",
        "*   행(index) 인덱싱\n",
        "*   .loc[행]\n",
        "*   .loc[행, 열]\n",
        "*   .loc[조건식, 열]\n",
        "\n"
      ]
    },
    {
      "cell_type": "code",
      "metadata": {
        "id": "XIVviUFrUID3"
      },
      "source": [
        "# loc 로 하나의 행을 가져옵니다.\n",
        "# loc == locate\n",
        "df.loc[0]"
      ],
      "execution_count": null,
      "outputs": []
    },
    {
      "cell_type": "code",
      "metadata": {
        "id": "igLY8-lnUIJQ"
      },
      "source": [
        "# loc로 2개의 행을 가져와 봅니다.\n",
        "df.loc[[0,1]]"
      ],
      "execution_count": null,
      "outputs": []
    },
    {
      "cell_type": "code",
      "metadata": {
        "id": "AL4W0V-F6RQp"
      },
      "source": [
        "# loc로 행, 열을 가져와 봅니다.\n",
        "df.loc[0,\"mpg\"]"
      ],
      "execution_count": null,
      "outputs": []
    },
    {
      "cell_type": "code",
      "metadata": {
        "id": "RNQyeBu46RHO"
      },
      "source": [
        "# loc로 여러개의 행, 열을 가져와 봅니다.\n",
        "df.loc[[0,1], [\"mpg\", \"cylinders\"]]"
      ],
      "execution_count": null,
      "outputs": []
    }
  ]
}