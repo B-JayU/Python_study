{
  "nbformat": 4,
  "nbformat_minor": 0,
  "metadata": {
    "colab": {
      "name": "EDA-Pandas.ipynb",
      "private_outputs": true,
      "provenance": [],
      "toc_visible": true,
      "authorship_tag": "ABX9TyPlpf49IzE/ROYrZrnS0wih",
      "include_colab_link": true
    },
    "kernelspec": {
      "name": "python3",
      "display_name": "Python 3"
    },
    "language_info": {
      "name": "python"
    }
  },
  "cells": [
    {
      "cell_type": "markdown",
      "metadata": {
        "id": "view-in-github",
        "colab_type": "text"
      },
      "source": [
        "<a href=\"https://colab.research.google.com/github/B-JayU/Python_study/blob/main/EDA_Pandas.ipynb\" target=\"_parent\"><img src=\"https://colab.research.google.com/assets/colab-badge.svg\" alt=\"Open In Colab\"/></a>"
      ]
    },
    {
      "cell_type": "markdown",
      "metadata": {
        "id": "qx0VwBv9PbAg"
      },
      "source": [
        "pandas 불어오기"
      ]
    },
    {
      "cell_type": "code",
      "metadata": {
        "id": "Q7xK2myJPYV6"
      },
      "source": [
        "import pandas as pd"
      ],
      "execution_count": null,
      "outputs": []
    },
    {
      "cell_type": "markdown",
      "metadata": {
        "id": "tHNzf_czPqqL"
      },
      "source": [
        "seaborn 불러오기"
      ]
    },
    {
      "cell_type": "code",
      "metadata": {
        "id": "1cUCBjKvPjBD"
      },
      "source": [
        "import seaborn as sns"
      ],
      "execution_count": null,
      "outputs": []
    },
    {
      "cell_type": "markdown",
      "metadata": {
        "id": "EtoClL2EPwM_"
      },
      "source": [
        "seaborn 데이터셋 위치 : https://github.com/mwaskom/seaborn-data\n"
      ]
    },
    {
      "cell_type": "code",
      "metadata": {
        "id": "9pNsbAjmP5m-"
      },
      "source": [
        "# df\n",
        "# sns.load_dataset(\"mpg\")\n",
        "df = pd.read_csv(\"https://raw.githubusercontent.com/mwaskom/seaborn-data/master/mpg.csv\")\n",
        "df"
      ],
      "execution_count": null,
      "outputs": []
    },
    {
      "cell_type": "code",
      "metadata": {
        "id": "F4tR4TOGRF6U"
      },
      "source": [
        "# index 값만 보기\n",
        "df.index"
      ],
      "execution_count": null,
      "outputs": []
    },
    {
      "cell_type": "code",
      "metadata": {
        "id": "SBBjZbVzRGB1"
      },
      "source": [
        "# columns 값만 보기\n",
        "df.columns"
      ],
      "execution_count": null,
      "outputs": []
    },
    {
      "cell_type": "code",
      "metadata": {
        "id": "92monWD1RGLQ"
      },
      "source": [
        "# values 값만 보기 \n",
        "df.values"
      ],
      "execution_count": null,
      "outputs": []
    },
    {
      "cell_type": "code",
      "metadata": {
        "id": "ySMic7A2RGU9"
      },
      "source": [
        "# 데이터 타입만 보기\n",
        "df.dtypes"
      ],
      "execution_count": null,
      "outputs": []
    }
  ]
}